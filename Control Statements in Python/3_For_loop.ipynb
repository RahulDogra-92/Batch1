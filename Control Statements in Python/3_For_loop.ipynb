{
 "cells": [
  {
   "cell_type": "markdown",
   "metadata": {},
   "source": [
    "# For Loop in Python"
   ]
  },
  {
   "cell_type": "code",
   "execution_count": 3,
   "metadata": {},
   "outputs": [
    {
     "name": "stdout",
     "output_type": "stream",
     "text": [
      "Saurabh 1\n",
      "Saurabh 2\n",
      "Saurabh 3\n",
      "Saurabh 4\n",
      "Saurabh 5\n",
      "Saurabh 6\n",
      "Saurabh 7\n",
      "Saurabh 8\n",
      "Saurabh 9\n"
     ]
    }
   ],
   "source": [
    "for x in range(1,10):\n",
    "    print('Saurabh',x)"
   ]
  },
  {
   "cell_type": "code",
   "execution_count": 2,
   "metadata": {},
   "outputs": [
    {
     "name": "stdout",
     "output_type": "stream",
     "text": [
      "Saurabh:  0\n",
      "Saurabh:  1\n",
      "Saurabh:  2\n",
      "Saurabh:  3\n",
      "Saurabh:  4\n",
      "Saurabh:  5\n",
      "Saurabh:  6\n",
      "Saurabh:  7\n",
      "Saurabh:  8\n",
      "Saurabh:  9\n"
     ]
    }
   ],
   "source": [
    "for x in range(10):\n",
    "    print(\"Saurabh: \",x)"
   ]
  },
  {
   "cell_type": "code",
   "execution_count": 4,
   "metadata": {},
   "outputs": [
    {
     "name": "stdout",
     "output_type": "stream",
     "text": [
      "Python\n",
      "Data Science\n",
      "Machine Learning\n",
      "Artificial Intelligence\n"
     ]
    }
   ],
   "source": [
    "Movies = ['Python','Data Science','Machine Learning','Artificial Intelligence']\n",
    "for x in Movies:\n",
    "    print(x)"
   ]
  },
  {
   "cell_type": "code",
   "execution_count": 6,
   "metadata": {},
   "outputs": [
    {
     "name": "stdout",
     "output_type": "stream",
     "text": [
      "Number =  0\n",
      "Number =  3\n",
      "Number =  6\n",
      "Number =  9\n",
      "Number =  12\n",
      "Number =  15\n",
      "Number =  18\n"
     ]
    }
   ],
   "source": [
    "for i in range(0,21,3):\n",
    "    print(\"Number = \",i)"
   ]
  },
  {
   "cell_type": "code",
   "execution_count": null,
   "metadata": {},
   "outputs": [],
   "source": []
  }
 ],
 "metadata": {
  "kernelspec": {
   "display_name": "Python 3",
   "language": "python",
   "name": "python3"
  },
  "language_info": {
   "codemirror_mode": {
    "name": "ipython",
    "version": 3
   },
   "file_extension": ".py",
   "mimetype": "text/x-python",
   "name": "python",
   "nbconvert_exporter": "python",
   "pygments_lexer": "ipython3",
   "version": "3.7.6"
  }
 },
 "nbformat": 4,
 "nbformat_minor": 4
}
